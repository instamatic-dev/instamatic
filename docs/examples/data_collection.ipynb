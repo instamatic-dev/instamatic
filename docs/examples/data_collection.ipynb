{
 "cells": [
  {
   "cell_type": "code",
   "execution_count": null,
   "metadata": {},
   "outputs": [],
   "source": [
    "%load_ext autoreload\n",
    "%autoreload 2"
   ]
  },
  {
   "cell_type": "markdown",
   "metadata": {},
   "source": [
    "# Instamatic - basic data collection\n",
    "\n",
    "Instamatic is a tool for automated electron diffraction data collection. It has interfaces for interfacing with the TEM (JEOL/TFS) and several cameras (Gatan/ASI Timepix/TVIPS).\n",
    "\n",
    "This notebook shows some interactive examples of what basic data collection scripts may look like.\n",
    "\n",
    "https://github.com/instamatic-dev/instamatic"
   ]
  },
  {
   "cell_type": "markdown",
   "metadata": {},
   "source": [
    "First, we must import and initialize the controller object, which defines the interface to the TEM and the camera. For this example, the microscope interaction is simulated."
   ]
  },
  {
   "cell_type": "code",
   "execution_count": null,
   "metadata": {},
   "outputs": [],
   "source": [
    "from instamatic import TEMController\n",
    "from instamatic.formats import write_tiff\n",
    "\n",
    "ctrl = TEMController.initialize()"
   ]
  },
  {
   "cell_type": "markdown",
   "metadata": {},
   "source": [
    "## Discrete rotation electron diffraction\n",
    "\n",
    "This is an example script to collect electron diffraction data with discrete rotation steps with steps of 10° from -60 to 60°. The data are saved in a tiff file."
   ]
  },
  {
   "cell_type": "code",
   "execution_count": null,
   "metadata": {},
   "outputs": [],
   "source": [
    "exposure = 0.5  # s\n",
    "angles = range(-50, 51, 10)\n",
    "\n",
    "for i, angle in enumerate(angles):\n",
    "    ctrl.stage.set(a=angle)\n",
    "    print(f\"Frame {i} @ {ctrl.stage.a:.1f}°\")\n",
    "    img, h = ctrl.get_image(exposure=exposure)\n",
    "    write_tiff(f\"red_{i:04d}.tiff\", img, header=h)\n",
    "    "
   ]
  },
  {
   "cell_type": "markdown",
   "metadata": {},
   "source": [
    "We can show the last image, but they are not very interesting, because they are simulated as noise :-)"
   ]
  },
  {
   "cell_type": "code",
   "execution_count": null,
   "metadata": {},
   "outputs": [],
   "source": [
    "%matplotlib inline\n",
    "import matplotlib.pyplot as plt\n",
    "plt.imshow(img)"
   ]
  },
  {
   "cell_type": "markdown",
   "metadata": {},
   "source": [
    "## Continuous rotation electron diffraction\n",
    "\n",
    "This is an example of what data collection would look like with a continuous rotation. The difference is that the target angle is set using `wait=False`. This means that the call is non-blocking, so that the script can continue. We will stop data collection once the angle has reached the target angle."
   ]
  },
  {
   "cell_type": "code",
   "execution_count": null,
   "metadata": {},
   "outputs": [],
   "source": [
    "exposure = 0.5\n",
    "start_angle =  50 # degrees\n",
    "end_angle   = -50 # degrees\n",
    "\n",
    "ctrl.stage.set(a=start_angle)\n",
    "ctrl.stage.set(a=end_angle, wait=False)\n",
    "\n",
    "buffer = []\n",
    "i = 0\n",
    "\n",
    "while ctrl.stage.a != end_angle:\n",
    "    i += 1\n",
    "    img, h = ctrl.get_image(exposure=exposure)\n",
    "    buffer.append((img, h))\n",
    "    print(f\"Frame {i} @ {ctrl.stage.a:.1f}°\")\n",
    "\n",
    "for img, h in buffer:\n",
    "    write_tiff(f\"cred_{i:04d}.tiff\", img, header=h)\n",
    "    "
   ]
  },
  {
   "cell_type": "markdown",
   "metadata": {},
   "source": [
    "## Serial electron diffraction\n",
    "\n",
    "In a serial electron diffraction experiment, data are collected for a large number of crystals. The coordinates can be obtained from images taken at low magnification, but in this example a grid of coordinates will be created."
   ]
  },
  {
   "cell_type": "code",
   "execution_count": null,
   "metadata": {},
   "outputs": [],
   "source": [
    "from instamatic.tools import prepare_grid_coordinates\n",
    "\n",
    "nx, ny = 3, 3\n",
    "stepsize = 1000 # nm -> µm\n",
    "\n",
    "coords = prepare_grid_coordinates(nx=nx, ny=ny, stepsize=stepsize)\n",
    "print(coords)    "
   ]
  },
  {
   "cell_type": "markdown",
   "metadata": {},
   "source": [
    "We then loop over every coordinate and collect a diffraction pattern. We can then defocus the diffraction pattern to obtain an image of the crystal in the primary beam."
   ]
  },
  {
   "cell_type": "code",
   "execution_count": null,
   "metadata": {},
   "outputs": [],
   "source": [
    "exposure = 0.2  # s\n",
    "\n",
    "ctrl.mode.set(\"diff\")\n",
    "\n",
    "for i, (x, y) in enumerate(coords):\n",
    "    ctrl.stage.set(x=x, y=y)\n",
    "    print(f\"\\nImage {i} @ Position: {ctrl.stage.xy}\")\n",
    "\n",
    "    img, h = ctrl.get_image(exposure=exposure)\n",
    "    write_tiff(f\"sed_diff_{i:04d}.tiff\", img, header=h)\n",
    "\n",
    "    ctrl.difffocus.defocus(offset=1500)\n",
    "    \n",
    "    img, h = ctrl.get_image(exposure=exposure)\n",
    "    write_tiff(f\"sed_image_{i:04d}.tiff\", img, header=h)\n",
    "    \n",
    "    ctrl.difffocus.refocus()"
   ]
  },
  {
   "cell_type": "markdown",
   "metadata": {},
   "source": [
    "Alternatively, Instamatic can read `.nav` files exported from SerialEM and loop over the items with the acquire flag set. We make use of the `acquire_at_items` functionality to make `instamatic` handle the stage movement for us. Here is a simple example of how to acquire a diffraction pattern at every position and write it to a tiff file."
   ]
  },
  {
   "cell_type": "code",
   "execution_count": null,
   "metadata": {},
   "outputs": [],
   "source": [
    "from instamatic.formats import write_tiff\n",
    "from instamatic.serialem import read_nav_file\n",
    "\n",
    "exposure = 0.2\n",
    "\n",
    "markers = read_nav_file(\"nav.nav\", acquire_only=True)\n",
    "\n",
    "ctrl.mode.set(\"diff\")\n",
    "\n",
    "def acquire(ctrl):\n",
    "    img, h = ctrl.get_image(exposure=exposure)\n",
    "    write_tiff(f\"diff_{i:04d}.tiff\", img, header=h)\n",
    "\n",
    "ctrl.acquire_at_items(markers, acquire=acquire)"
   ]
  },
  {
   "cell_type": "markdown",
   "metadata": {},
   "source": [
    "`acquire_at_items` offers a lot of options to run custom experiments, by specifying routines to run before, after or during the experiment."
   ]
  },
  {
   "cell_type": "code",
   "execution_count": null,
   "metadata": {},
   "outputs": [],
   "source": [
    "def pre_acquire_1(ctrl):\n",
    "    print(\"I run before the experiment\")\n",
    "\n",
    "def pre_acquire_2(ctrl):\n",
    "    print(\"And so do I!\")\n",
    "\n",
    "def every_3(ctrl):\n",
    "    print(\"I run every 3 cycles\")\n",
    "\n",
    "def every_5(ctrl):\n",
    "    print(\"I run every 5 cycles\")\n",
    "\n",
    "def every_8(ctrl):\n",
    "    print(\"I run every 8 cycles\")\n",
    "\n",
    "def acquire(ctrl):\n",
    "    print(\"I'm actually collecting data...\")\n",
    "    img, h = ctrl.get_image(exposure=exposure)\n",
    "\n",
    "def post_acquire(ctrl):\n",
    "    print(\"I run after the experiment is finished (or interrupted)!\")\n",
    "    \n",
    "every_n = {\n",
    "    3: every_3,\n",
    "    5: every_5,\n",
    "    8: every_8\n",
    "}\n",
    "\n",
    "ctrl.acquire_at_items(markers, \n",
    "                      pre_acquire=(pre_acquire_1, pre_acquire_2),\n",
    "                      acquire=acquire,\n",
    "                      post_acquire=post_acquire,\n",
    "                      every_n=every_n)"
   ]
  },
  {
   "cell_type": "code",
   "execution_count": null,
   "metadata": {},
   "outputs": [],
   "source": []
  }
 ],
 "metadata": {
  "kernelspec": {
   "display_name": "Python 3",
   "language": "python",
   "name": "python3"
  },
  "language_info": {
   "codemirror_mode": {
    "name": "ipython",
    "version": 3
   },
   "file_extension": ".py",
   "mimetype": "text/x-python",
   "name": "python",
   "nbconvert_exporter": "python",
   "pygments_lexer": "ipython3",
   "version": "3.7.3"
  }
 },
 "nbformat": 4,
 "nbformat_minor": 2
}
