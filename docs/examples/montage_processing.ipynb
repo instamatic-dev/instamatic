{
 "cells": [
  {
   "cell_type": "code",
   "execution_count": null,
   "metadata": {},
   "outputs": [],
   "source": [
    "%load_ext autoreload\n",
    "%autoreload 2"
   ]
  },
  {
   "cell_type": "markdown",
   "metadata": {},
   "source": [
    "# Instamatic - montaging\n",
    "\n",
    "Instamatic is a tool for automated electron diffraction data collection. It has interfaces for interfacing with the TEM (JEOL/TFS) and several cameras (Gatan/ASI Timepix/TVIPS).\n",
    "\n",
    "https://github.com/instamatic-dev/instamatic\n",
    "\n",
    "This notebook shows how to process a grid montage using `instamatic`, pick grid squares, and set up an acquisition (`acquire_at_items`). The data were collected on a zeolite sample (2020-02-12), using a JEOL JEM-1400 @ 120 kV in combination with a TVIPS F-416 camera.\n",
    "\n",
    "The data for this demo are available from zenodo: https://doi.org/10.5281/zenodo.3924089\n",
    "\n",
    "Make sure to change the work directory below to point at the right location."
   ]
  },
  {
   "cell_type": "code",
   "execution_count": null,
   "metadata": {},
   "outputs": [],
   "source": [
    "from instamatic.montage import *\n",
    "import numpy as np\n",
    "from pathlib import Path\n",
    "np.set_printoptions(suppress=True)\n",
    "\n",
    "# work directory\n",
    "work = Path(r\"C:/s/data/montage_1\")"
   ]
  },
  {
   "cell_type": "markdown",
   "metadata": {},
   "source": [
    "## Setting up the montage\n",
    "\n",
    "Load the `montage.yaml` file and the associated images."
   ]
  },
  {
   "cell_type": "code",
   "execution_count": null,
   "metadata": {},
   "outputs": [],
   "source": [
    "m = InstamaticMontage.from_montage_yaml(work / 'montage.yaml')\n",
    "m.gridspec"
   ]
  },
  {
   "cell_type": "markdown",
   "metadata": {},
   "source": [
    "First, we can check what the data actually look like. To do so, we can simply `stitch` and `plot` the data using a `binning=4` to conserve a bit of memory. This naively plots the data at the expected positions. Although the stitching is not that great, it's enough to get a feeling for the data."
   ]
  },
  {
   "cell_type": "code",
   "execution_count": null,
   "metadata": {},
   "outputs": [],
   "source": [
    "m.calculate_montage_coords()\n",
    "m.stitch(binning=4)\n",
    "m.plot()"
   ]
  },
  {
   "cell_type": "markdown",
   "metadata": {},
   "source": [
    "To get better stitching, we need to:\n",
    "\n",
    " 1. Better estimate the difference vectors between each tile using cross correlation\n",
    " 2. Optimize the coordinates of the difference vectors using least-squares minimization\n",
    "\n",
    "This approach is based on *Globally optimal stitching of tiled 3D microscopic image acquisitions* by Preibish et al., Bioinformatics 25 (2009), 1463–1465 (https://doi.org/10.1093/bioinformatics/btp184).\n",
    "\n",
    "Some metrics, such as the obtained shifts and FFT scores are plotted to evaluate the stitching."
   ]
  },
  {
   "cell_type": "code",
   "execution_count": null,
   "metadata": {},
   "outputs": [],
   "source": [
    "# Use cross correlation to get difference vectors\n",
    "m.calculate_difference_vectors(threshold='auto', \n",
    "                               method='skimage', \n",
    "                               plot=False)\n",
    "\n",
    "# plot the fft_scores\n",
    "m.plot_fft_scores()\n",
    "\n",
    "# plot the pixel shifts\n",
    "m.plot_shifts()\n",
    "\n",
    "# get coords optimized using cross correlation\n",
    "m.optimize_montage_coords(plot=True)\n",
    "\n",
    "# stitch image, use binning 4 for speed-up and memory conservation\n",
    "m.stitch(binning=4)\n",
    "\n",
    "# plot the stitched image\n",
    "m.plot()"
   ]
  },
  {
   "cell_type": "markdown",
   "metadata": {},
   "source": [
    "We can save the stitched image:"
   ]
  },
  {
   "cell_type": "code",
   "execution_count": null,
   "metadata": {},
   "outputs": [],
   "source": [
    "m.export(work / \"stitched.tiff\")"
   ]
  },
  {
   "cell_type": "markdown",
   "metadata": {},
   "source": [
    "When the image has been stitched (with or without optimization), we can look for the positions of the grid squares/squircles. To do so, call the method `.find_holes`. The grid squares are identified as objects roughly sized `diameter` with a tolerance of 10%. The median as well as 5/95 percentiles are printed to evaluate the hole size distribution."
   ]
  },
  {
   "cell_type": "code",
   "execution_count": null,
   "metadata": {},
   "outputs": [],
   "source": [
    "diameter = 45_000  # nm\n",
    "stagecoords, imagecoords = m.find_holes(plot=True, tolerance=0.1)"
   ]
  },
  {
   "cell_type": "markdown",
   "metadata": {},
   "source": [
    "It is possible to optimize the stage coordinates for more efficient navigation. In this example, the total stage movement can be reduced by about 75%, which will save a lot of time. The function uses the _two-opt_ algorithm for finding the shortest path: https://en.wikipedia.org/wiki/2-opt."
   ]
  },
  {
   "cell_type": "code",
   "execution_count": null,
   "metadata": {},
   "outputs": [],
   "source": [
    "from pyserialem.navigation import sort_nav_items_by_shortest_path\n",
    "stagecoords = sort_nav_items_by_shortest_path(stagecoords, plot=True);"
   ]
  },
  {
   "cell_type": "markdown",
   "metadata": {},
   "source": [
    "The `stagecoords` can be used to set up an automated **acquire at items**. This is useful to take medium magnification images from the regions of interest, in our case, the grid squares. First, initialize a connection to the microscope."
   ]
  },
  {
   "cell_type": "code",
   "execution_count": null,
   "metadata": {},
   "outputs": [],
   "source": [
    "from instamatic import TEMController\n",
    "ctrl = TEMController.initialize()"
   ]
  },
  {
   "cell_type": "markdown",
   "metadata": {},
   "source": [
    "Next, we should set up an acquisition function for each stage position. This should:\n",
    "\n",
    "1. Center the grid square by aligning it with a reference image\n",
    "2. Take an image at high mag\n",
    "3. Store the image and the corresponding stage position in a buffer\n",
    "\n",
    "In this preparation step, we much first obtain a reference image from a grid square. The magnification should be so that the grid square fits in the view of the image. In this example, we use `300x` in `lowmag`."
   ]
  },
  {
   "cell_type": "code",
   "execution_count": null,
   "metadata": {},
   "outputs": [],
   "source": [
    "import mrcfile\n",
    "\n",
    "# set microscope conditions\n",
    "ctrl.mode.set('lowmag')\n",
    "ctrl.magnification.value = 300\n",
    "binsize = 4\n",
    "\n",
    "# reference image of a centered grid square\n",
    "ref_img = ctrl.get_raw_image()\n",
    "\n",
    "f = mrcfile.new(work / 'template.mrc', data=ref_img.astype(np.int16), overwrite=True)\n",
    "f.close()"
   ]
  },
  {
   "cell_type": "markdown",
   "metadata": {},
   "source": [
    "Then, we can define our acquisition function. We will align the stage to the reference image using cross correlation (`ctrl.align_to`), and then taken an image of the centered grid square. Although this step is optional, it makes sure that the grid square is centered. This helps when looking for particles, and reduces errors related to stage translation and calibration. We also acquire an image and store the new stage position to a buffer."
   ]
  },
  {
   "cell_type": "code",
   "execution_count": null,
   "metadata": {},
   "outputs": [],
   "source": [
    "buffer = []\n",
    "stagepos = []\n",
    "\n",
    "\n",
    "def acquire_func(ctrl):\n",
    "    # Align to template\n",
    "#     ctrl.align_to(ref_img, apply=True)\n",
    "    \n",
    "    # obtain image\n",
    "    img, h = ctrl.get_image(binsize=binsize)  \n",
    "    buffer.append(img)\n",
    "    \n",
    "    # store stage position and image somewhere\n",
    "    pos = ctrl.stage.get()\n",
    "    stagepos.append(pos)"
   ]
  },
  {
   "cell_type": "markdown",
   "metadata": {},
   "source": [
    "When the function is defined, we can pass it and the list of grid square stage coordinates to the function `ctrl.acquire_at_items`, which will automate the function at each stage position."
   ]
  },
  {
   "cell_type": "code",
   "execution_count": null,
   "metadata": {},
   "outputs": [],
   "source": [
    "sel = stagecoords[0:10]  # Acquire at the first 10 items\n",
    "ctrl.acquire_at_items(sel, acquire=acquire_func)"
   ]
  },
  {
   "cell_type": "markdown",
   "metadata": {},
   "source": [
    "Here is a minimal example of how the acquire functions can be changed to collect data can be saved to a `.nav` file which can be read by `SerialEM`. \n",
    "\n",
    "This makes use of the ability to pass a `post_acquire` function to `.acquire_at_items`. The post acquisition can be used to save the images as well as the required metadata to `SerialEM` format, making use of the `instamatic.serialem` module.\n",
    "\n",
    "The `post_acquire` function saves the data to `.mrc` format, and writes an input file for SerialEM: `instamatic.nav`."
   ]
  },
  {
   "cell_type": "code",
   "execution_count": null,
   "metadata": {},
   "outputs": [],
   "source": [
    "from pyserialem import MapItem, write_nav_file\n",
    "from instamatic import config\n",
    "\n",
    "# reference image of a centered grid square\n",
    "ref_img = ctrl.get_raw_image()\n",
    "\n",
    "f = mrcfile.new(work / \"template.mrc\", data=ref_img.astype(np.int16), overwrite=True)\n",
    "f.close()\n",
    "\n",
    "# empty buffers\n",
    "buffer = []\n",
    "stagepos = []\n",
    "\n",
    "   \n",
    "def write_mrc_stack(fn:str, data: list, overwrite: bool=True, mmap:bool = True):\n",
    "    \"\"\"Write a stack of images to an mrc file.\"\"\"\n",
    "    if mmap:\n",
    "        shape = (len(buffer), *buffer[0].shape)\n",
    "        with mrcfile.new_mmap(fn, shape=shape, overwrite=True, mrc_mode=1) as f:\n",
    "            for i, im in enumerate(buffer):\n",
    "                f.data[i] = im\n",
    "    else:\n",
    "        data = np.array(data)\n",
    "        # mrc can only be saved as a 16-bit integer\n",
    "        data = data.astype(np.int16)\n",
    "        try:\n",
    "            f = mrcfile.new(fn, data=data, overwrite=overwrite)\n",
    "        except OSError:\n",
    "            f.close()\n",
    "    \n",
    "\n",
    "def post_acquire(ctrl):\n",
    "    fn_nav = work / 'instamatic.nav'\n",
    "    fn_mrc = work / 'mmm.mrc'\n",
    "    \n",
    "    write_mrc_stack(fn_mrc, buffer)\n",
    "    \n",
    "    items = []\n",
    "    \n",
    "    magnification = ctrl.magnification.value\n",
    "    mode = ctrl.mode.get()\n",
    "    mapscalemat = config.calibration[mode]['stagematrix'][magnification]\n",
    "    mapscalemat = [item/binsize for item in mapscalemat]\n",
    "    \n",
    "    for i, image in enumerate(buffer):\n",
    "        x, y, z, _, _ = stagepos[i]\n",
    "        shape = image.shape\n",
    "        # binsize = ctrl.cam.getBinning()\n",
    "\n",
    "        d = {}\n",
    "        d['StageXYZ'] = x / 1000, y / 1000, z / 1000\n",
    "        d['MapFile'] = fn_mrc\n",
    "        d['MapSection'] = i\n",
    "        d['MapBinning'] = binsize\n",
    "        d['MapMagInd'] = ctrl.magnification.absolute_index + 1  # SerialEM is 1-based\n",
    "        d['MapScaleMat'] = mapscalemat\n",
    "        d['MapWidthHeight'] = shape\n",
    "\n",
    "        map_item = MapItem.from_dict(d)\n",
    "        items.append(map_item)\n",
    "\n",
    "    write_nav_file(fn_nav, *items)\n",
    "    \n",
    "    print(f\"Data saved to `{fn_nav}` and `{fn_mrc}` ({len(buffer)} images)\")"
   ]
  },
  {
   "cell_type": "markdown",
   "metadata": {},
   "source": [
    "Next we call `ctrl.acquire_at_items` as before with the new `post_acquire` function."
   ]
  },
  {
   "cell_type": "code",
   "execution_count": null,
   "metadata": {},
   "outputs": [],
   "source": [
    "sel = stagecoords[0:10]  # Acquire at the first 10 items\n",
    "ctrl.acquire_at_items(sel, \n",
    "                      acquire=acquire_func, \n",
    "                      post_acquire=post_acquire)"
   ]
  },
  {
   "cell_type": "markdown",
   "metadata": {},
   "source": [
    "Now load up the `instamatic.nav` file in `SerialEM` to see the result!"
   ]
  },
  {
   "cell_type": "code",
   "execution_count": null,
   "metadata": {},
   "outputs": [],
   "source": []
  },
  {
   "cell_type": "code",
   "execution_count": null,
   "metadata": {},
   "outputs": [],
   "source": []
  }
 ],
 "metadata": {
  "kernelspec": {
   "display_name": "Python 3",
   "language": "python",
   "name": "python3"
  },
  "language_info": {
   "codemirror_mode": {
    "name": "ipython",
    "version": 3
   },
   "file_extension": ".py",
   "mimetype": "text/x-python",
   "name": "python",
   "nbconvert_exporter": "python",
   "pygments_lexer": "ipython3",
   "version": "3.8.3"
  }
 },
 "nbformat": 4,
 "nbformat_minor": 2
}
